{
 "cells": [
  {
   "cell_type": "code",
   "execution_count": 2,
   "metadata": {},
   "outputs": [],
   "source": [
    "import tensorflow as tf\n",
    "from tensorflow import keras\n",
    "\n",
    "import numpy as np \n",
    "import pandas as pd\n",
    "import sys\n",
    "print(sys.version)"
   ]
  },
  {
   "cell_type": "code",
   "execution_count": 3,
   "metadata": {},
   "outputs": [],
   "source": [
    "(x_train, y_train), (x_test, y_test) = tf.keras.datasets.cifar10.load_data()"
   ]
  },
  {
   "cell_type": "code",
   "execution_count": 1,
   "metadata": {},
   "outputs": [
    {
     "ename": "NameError",
     "evalue": "name 'sys' is not defined",
     "output_type": "error",
     "traceback": [
      "\u001b[0;31m---------------------------------------------------------------------------\u001b[0m",
      "\u001b[0;31mNameError\u001b[0m                                 Traceback (most recent call last)",
      "\u001b[0;32m/var/folders/fy/7b7g97d529744hlqj2dnlfm40000gn/T/ipykernel_20543/2576299145.py\u001b[0m in \u001b[0;36m<module>\u001b[0;34m\u001b[0m\n\u001b[1;32m      1\u001b[0m \u001b[0;31m# print(\"Num GPUs Available: \", len(tf.config.list_physical_devices('GPU')))\u001b[0m\u001b[0;34m\u001b[0m\u001b[0;34m\u001b[0m\u001b[0m\n\u001b[0;32m----> 2\u001b[0;31m \u001b[0mprint\u001b[0m\u001b[0;34m(\u001b[0m\u001b[0msys\u001b[0m\u001b[0;34m.\u001b[0m\u001b[0mversion\u001b[0m\u001b[0;34m)\u001b[0m\u001b[0;34m\u001b[0m\u001b[0;34m\u001b[0m\u001b[0m\n\u001b[0m",
      "\u001b[0;31mNameError\u001b[0m: name 'sys' is not defined"
     ]
    }
   ],
   "source": [
    "# print(\"Num GPUs Available: \", len(tf.config.list_physical_devices('GPU')))\n"
   ]
  },
  {
   "cell_type": "code",
   "execution_count": 15,
   "metadata": {},
   "outputs": [],
   "source": [
    "#normalize data\n",
    "x_train = x_train / 255.0\n",
    "x_test = x_test / 255.0\n",
    "\n",
    "np.random.RandomState(seed=42).shuffle(x_train)\n",
    "np.random.RandomState(seed=42).shuffle(y_train)"
   ]
  },
  {
   "cell_type": "code",
   "execution_count": 16,
   "metadata": {},
   "outputs": [
    {
     "name": "stdout",
     "output_type": "stream",
     "text": [
      "(50000, 32, 32, 3)\n"
     ]
    }
   ],
   "source": [
    "print(x_train.shape)"
   ]
  },
  {
   "cell_type": "code",
   "execution_count": 17,
   "metadata": {},
   "outputs": [],
   "source": [
    "model = keras.Sequential([\n",
    "    keras.layers.Conv2D(32, (3,3), activation='relu', input_shape=(32,32,3)),\n",
    "    keras.layers.MaxPooling2D(2,2),\n",
    "    keras.layers.Conv2D(64, (3,3), activation='relu'),\n",
    "    keras.layers.MaxPooling2D(2,2),\n",
    "    keras.layers.Conv2D(64, (3,3), activation='relu'),\n",
    "    keras.layers.Flatten(),\n",
    "    keras.layers.Dense(64, activation='relu'),\n",
    "    keras.layers.Dense(10, activation='softmax')\n",
    "])\n",
    "\n",
    "model.compile(optimizer='adam',\n",
    "                loss='sparse_categorical_crossentropy',\n",
    "                metrics=['accuracy'])"
   ]
  },
  {
   "cell_type": "code",
   "execution_count": 20,
   "metadata": {},
   "outputs": [
    {
     "name": "stdout",
     "output_type": "stream",
     "text": [
      "Train on 50000 samples, validate on 10000 samples\n",
      "Epoch 1/10\n",
      "50000/50000 [==============================] - 184s 4ms/sample - loss: 1.3940 - accuracy: 0.4981 - val_loss: 1.2337 - val_accuracy: 0.5692\n",
      "Epoch 2/10\n",
      "50000/50000 [==============================] - 206s 4ms/sample - loss: 1.1281 - accuracy: 0.6008 - val_loss: 1.0601 - val_accuracy: 0.6266\n",
      "Epoch 3/10\n",
      "50000/50000 [==============================] - 207s 4ms/sample - loss: 0.9968 - accuracy: 0.6481 - val_loss: 0.9729 - val_accuracy: 0.6546\n",
      "Epoch 4/10\n",
      "50000/50000 [==============================] - 181s 4ms/sample - loss: 0.9058 - accuracy: 0.6821 - val_loss: 0.9187 - val_accuracy: 0.6841\n",
      "Epoch 5/10\n",
      "50000/50000 [==============================] - 192s 4ms/sample - loss: 0.8401 - accuracy: 0.7064 - val_loss: 0.9583 - val_accuracy: 0.6713\n",
      "Epoch 6/10\n",
      "50000/50000 [==============================] - 173s 3ms/sample - loss: 0.7817 - accuracy: 0.7260 - val_loss: 0.8873 - val_accuracy: 0.6889\n",
      "Epoch 7/10\n",
      "50000/50000 [==============================] - 194s 4ms/sample - loss: 0.7331 - accuracy: 0.7424 - val_loss: 0.9183 - val_accuracy: 0.6832\n",
      "Epoch 8/10\n",
      "50000/50000 [==============================] - 162s 3ms/sample - loss: 0.6959 - accuracy: 0.7540 - val_loss: 0.8735 - val_accuracy: 0.7039\n",
      "Epoch 9/10\n",
      "50000/50000 [==============================] - 193s 4ms/sample - loss: 0.6511 - accuracy: 0.7708 - val_loss: 0.8794 - val_accuracy: 0.6994\n",
      "Epoch 10/10\n",
      "50000/50000 [==============================] - 183s 4ms/sample - loss: 0.6148 - accuracy: 0.7838 - val_loss: 0.8900 - val_accuracy: 0.7006\n"
     ]
    },
    {
     "data": {
      "text/plain": [
       "<tensorflow.python.keras.callbacks.History at 0x7f9ce3985e90>"
      ]
     },
     "execution_count": 20,
     "metadata": {},
     "output_type": "execute_result"
    }
   ],
   "source": [
    "model.fit(x_train, y_train, epochs=10, validation_data=(x_test, y_test))"
   ]
  }
 ],
 "metadata": {
  "interpreter": {
   "hash": "799a66d3ff1f1cb3781cd223c2e899478424a14f529f6a4fe5516291bf7d0f8d"
  },
  "kernelspec": {
   "display_name": "Python 3.7.11 64-bit ('mlStuff': conda)",
   "language": "python",
   "name": "python3"
  },
  "language_info": {
   "codemirror_mode": {
    "name": "ipython",
    "version": 3
   },
   "file_extension": ".py",
   "mimetype": "text/x-python",
   "name": "python",
   "nbconvert_exporter": "python",
   "pygments_lexer": "ipython3",
   "version": "3.9.7"
  },
  "orig_nbformat": 4
 },
 "nbformat": 4,
 "nbformat_minor": 2
}
